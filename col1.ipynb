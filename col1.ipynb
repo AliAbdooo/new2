{
  "nbformat": 4,
  "nbformat_minor": 0,
  "metadata": {
    "colab": {
      "provenance": [],
      "authorship_tag": "ABX9TyMIvoMR8AP1wIWiyCXJgH22"
    },
    "kernelspec": {
      "name": "python3",
      "display_name": "Python 3"
    },
    "language_info": {
      "name": "python"
    },
    "accelerator": "TPU"
  },
  "cells": [
    {
      "cell_type": "code",
      "execution_count": 1,
      "metadata": {
        "id": "zk47McI2DPPT"
      },
      "outputs": [],
      "source": [
        "n=20\n",
        "y=30\n",
        "a=n+y"
      ]
    }
  ]
}